{
 "cells": [
  {
   "cell_type": "markdown",
   "id": "6f06e51d-a943-465b-ba7b-517b161f7eca",
   "metadata": {},
   "source": [
    "# World Disaster Risk Analysis "
   ]
  },
  {
   "cell_type": "code",
   "execution_count": 47,
   "id": "c90ce726-3424-455e-8d71-14df3cf1329a",
   "metadata": {},
   "outputs": [],
   "source": [
    "import numpy as np\n",
    "\n",
    "%matplotlib inline\n",
    "import matplotlib.pyplot as plots\n",
    "plots.style.use('fivethirtyeight')\n",
    "\n",
    "import math as mt\n",
    "import pandas as pd\n",
    "from scipy.stats import norm"
   ]
  },
  {
   "cell_type": "markdown",
   "id": "44840222-b996-4b62-a852-c99fb5812073",
   "metadata": {},
   "source": [
    "## Import Data"
   ]
  },
  {
   "cell_type": "code",
   "execution_count": 48,
   "id": "61911d68-9e30-4793-92fa-002ad17c6993",
   "metadata": {},
   "outputs": [
    {
     "data": {
      "text/html": [
       "<div>\n",
       "<style scoped>\n",
       "    .dataframe tbody tr th:only-of-type {\n",
       "        vertical-align: middle;\n",
       "    }\n",
       "\n",
       "    .dataframe tbody tr th {\n",
       "        vertical-align: top;\n",
       "    }\n",
       "\n",
       "    .dataframe thead th {\n",
       "        text-align: right;\n",
       "    }\n",
       "</style>\n",
       "<table border=\"1\" class=\"dataframe\">\n",
       "  <thead>\n",
       "    <tr style=\"text-align: right;\">\n",
       "      <th></th>\n",
       "      <th>Region</th>\n",
       "      <th>WRI</th>\n",
       "      <th>Exposure</th>\n",
       "      <th>Vulnerability</th>\n",
       "      <th>Susceptibility</th>\n",
       "      <th>Lack of Coping Capabilities</th>\n",
       "      <th>Lack of Adaptive Capacities</th>\n",
       "      <th>Year</th>\n",
       "      <th>Exposure Category</th>\n",
       "      <th>WRI Category</th>\n",
       "      <th>Vulnerability Category</th>\n",
       "      <th>Susceptibility Category</th>\n",
       "    </tr>\n",
       "  </thead>\n",
       "  <tbody>\n",
       "    <tr>\n",
       "      <th>0</th>\n",
       "      <td>Vanuatu</td>\n",
       "      <td>32.00</td>\n",
       "      <td>56.33</td>\n",
       "      <td>56.81</td>\n",
       "      <td>37.14</td>\n",
       "      <td>79.34</td>\n",
       "      <td>53.96</td>\n",
       "      <td>2011</td>\n",
       "      <td>Very High</td>\n",
       "      <td>Very High</td>\n",
       "      <td>High</td>\n",
       "      <td>High</td>\n",
       "    </tr>\n",
       "    <tr>\n",
       "      <th>1</th>\n",
       "      <td>Tonga</td>\n",
       "      <td>29.08</td>\n",
       "      <td>56.04</td>\n",
       "      <td>51.90</td>\n",
       "      <td>28.94</td>\n",
       "      <td>81.80</td>\n",
       "      <td>44.97</td>\n",
       "      <td>2011</td>\n",
       "      <td>Very High</td>\n",
       "      <td>Very High</td>\n",
       "      <td>Medium</td>\n",
       "      <td>Medium</td>\n",
       "    </tr>\n",
       "    <tr>\n",
       "      <th>2</th>\n",
       "      <td>Philippinen</td>\n",
       "      <td>24.32</td>\n",
       "      <td>45.09</td>\n",
       "      <td>53.93</td>\n",
       "      <td>34.99</td>\n",
       "      <td>82.78</td>\n",
       "      <td>44.01</td>\n",
       "      <td>2011</td>\n",
       "      <td>Very High</td>\n",
       "      <td>Very High</td>\n",
       "      <td>High</td>\n",
       "      <td>High</td>\n",
       "    </tr>\n",
       "    <tr>\n",
       "      <th>3</th>\n",
       "      <td>Salomonen</td>\n",
       "      <td>23.51</td>\n",
       "      <td>36.40</td>\n",
       "      <td>64.60</td>\n",
       "      <td>44.11</td>\n",
       "      <td>85.95</td>\n",
       "      <td>63.74</td>\n",
       "      <td>2011</td>\n",
       "      <td>Very High</td>\n",
       "      <td>Very High</td>\n",
       "      <td>Very High</td>\n",
       "      <td>High</td>\n",
       "    </tr>\n",
       "    <tr>\n",
       "      <th>4</th>\n",
       "      <td>Guatemala</td>\n",
       "      <td>20.88</td>\n",
       "      <td>38.42</td>\n",
       "      <td>54.35</td>\n",
       "      <td>35.36</td>\n",
       "      <td>77.83</td>\n",
       "      <td>49.87</td>\n",
       "      <td>2011</td>\n",
       "      <td>Very High</td>\n",
       "      <td>Very High</td>\n",
       "      <td>High</td>\n",
       "      <td>High</td>\n",
       "    </tr>\n",
       "  </tbody>\n",
       "</table>\n",
       "</div>"
      ],
      "text/plain": [
       "        Region    WRI  Exposure  Vulnerability  Susceptibility  \\\n",
       "0      Vanuatu  32.00     56.33          56.81           37.14   \n",
       "1        Tonga  29.08     56.04          51.90           28.94   \n",
       "2  Philippinen  24.32     45.09          53.93           34.99   \n",
       "3    Salomonen  23.51     36.40          64.60           44.11   \n",
       "4    Guatemala  20.88     38.42          54.35           35.36   \n",
       "\n",
       "   Lack of Coping Capabilities   Lack of Adaptive Capacities  Year  \\\n",
       "0                        79.34                         53.96  2011   \n",
       "1                        81.80                         44.97  2011   \n",
       "2                        82.78                         44.01  2011   \n",
       "3                        85.95                         63.74  2011   \n",
       "4                        77.83                         49.87  2011   \n",
       "\n",
       "  Exposure Category WRI Category Vulnerability Category  \\\n",
       "0         Very High    Very High                   High   \n",
       "1         Very High    Very High                 Medium   \n",
       "2         Very High    Very High                   High   \n",
       "3         Very High    Very High              Very High   \n",
       "4         Very High    Very High                   High   \n",
       "\n",
       "  Susceptibility Category  \n",
       "0                    High  \n",
       "1                  Medium  \n",
       "2                    High  \n",
       "3                    High  \n",
       "4                    High  "
      ]
     },
     "execution_count": 48,
     "metadata": {},
     "output_type": "execute_result"
    }
   ],
   "source": [
    "wri = pd.read_csv('Data/world_risk_index.csv')\n",
    "wri.head()"
   ]
  },
  {
   "cell_type": "markdown",
   "id": "d458b0c8-abb9-492b-a42b-9d5d6e089ce4",
   "metadata": {},
   "source": [
    "### Background: \n",
    "\n",
    "The WorldRiskIndex is a statistical model that provides an assessment of the latent risk of 193 countries falling victim to a humanitarian disaster caused by extreme natural events and the negative impacts of climate change. Based on peer-reviewed concepts of risk, hazard and vulnerability, it is assumed that disaster risks are not solely shaped by the occurrence, intensity, and duration of extreme natural events, but that social factors, political conditions, and economic structures are equally responsible for whether disasters occur in the context of extreme natural events. Accordingly, both main spheres of disaster risk, exposure and vulnerability, are treated as equals.\n",
    "\n",
    "The WorldRiskIndex was initially developed in 2011 by the United Nations University Institute for Environment and Human Security (UNU-EHS) for Bündnis Entwicklung Hilft as a model with 27 indicators to analytically link and relate the two spheres of disaster risks – exposure to natural hazards such as earthquakes, storms or droughts, and societal capacities to respond to these kinds of events. The methodology of the WorldRiskIndex has been continuously revised and developed by the Institute for International Law of Peace and Armed Conflict (IFHV) since 2018. In 2022, a new, fully revised model of the WorldRiskIndex was published, enabling more accurate analyses by incorporating more than 100 high-quality indicators, new data sources, and more robust statistical methods, thus finally replacing the previously used model.\n",
    "\n",
    "source: https://data.humdata.org/dataset/worldriskindex\n",
    "\n",
    "### Description of the data: \n",
    "\n",
    "* Region: Name of the region.\n",
    "* WRI: World Risk Score of the region.\n",
    "* Exposure: Risk/exposure to natural hazards such as earthquakes, hurricanes, floods, droughts, and sea level rise.\n",
    "* Vulnerability: Vulnerability depending on infrastructure, nutrition, housing situation, and economic framework conditions.\n",
    "* Susceptibility: Susceptibility depending on infrastructure, nutrition, housing situation, and economic framework conditions.\n",
    "* Lack of Coping Capabilities: Coping capacities in dependence of governance, preparedness and early warning, medical care, and social and material security.\n",
    "* Lack of Adaptive Capacities: Adaptive capacities related to coming natural events, climate change, and other challenges.\n",
    "* Year: Year data is being described.\n",
    "* WRI Category: WRI Category for the given WRI Score.\n",
    "* Exposure Category: Exposure Category for the given Exposure Score.\n",
    "* Vulnerability Category: Vulnerability Category for the given Vulnerability Score.\n",
    "* Susceptibility Category: Susceptibility Category for the given Susceptibility Score.\n",
    "\n",
    "source:  https://www.kaggle.com/datasets/tr1gg3rtrash/global-disaster-risk-index-time-series-dataset/data"
   ]
  },
  {
   "cell_type": "markdown",
   "id": "1eeb5d00-6d99-4c6c-b3f4-60b78db604d8",
   "metadata": {},
   "source": [
    "### Observations:\n",
    "\n",
    "The data collected spans from 2011 to 2021. Based on the description, the two primary spheres of disaster risk are exposure and vulnerability, which are treated as equally important.\n",
    "\n",
    "* __Exposure__ is influenced by the occurrence, intensity, and duration of extreme natural events.\n",
    "* __Vulnerability__ is shaped by social factors, political conditions, and economic structures.\n",
    "\n",
    "It will be interesting for us to explore the WRI of countries, with a focus on its  relationship exposure and vulnerability. \n"
   ]
  },
  {
   "cell_type": "markdown",
   "id": "ec3face7-327c-4a44-bcdc-570224e0c2a9",
   "metadata": {},
   "source": [
    "## Data Cleaning"
   ]
  },
  {
   "cell_type": "code",
   "execution_count": 49,
   "id": "f971e00e-62a0-4ff0-9919-c1b1253d78b2",
   "metadata": {},
   "outputs": [
    {
     "data": {
      "text/plain": [
       "Region                          0\n",
       "WRI                             0\n",
       "Exposure                        0\n",
       "Vulnerability                   0\n",
       "Susceptibility                  0\n",
       "Lack of Coping Capabilities     0\n",
       " Lack of Adaptive Capacities    1\n",
       "Year                            0\n",
       "Exposure Category               0\n",
       "WRI Category                    1\n",
       "Vulnerability Category          4\n",
       "Susceptibility Category         0\n",
       "dtype: int64"
      ]
     },
     "execution_count": 49,
     "metadata": {},
     "output_type": "execute_result"
    }
   ],
   "source": [
    "wri.isnull().sum()"
   ]
  },
  {
   "cell_type": "code",
   "execution_count": 50,
   "id": "dd68ea7c-f7f6-429e-93f3-c442dad48d4e",
   "metadata": {},
   "outputs": [
    {
     "data": {
      "text/html": [
       "<div>\n",
       "<style scoped>\n",
       "    .dataframe tbody tr th:only-of-type {\n",
       "        vertical-align: middle;\n",
       "    }\n",
       "\n",
       "    .dataframe tbody tr th {\n",
       "        vertical-align: top;\n",
       "    }\n",
       "\n",
       "    .dataframe thead th {\n",
       "        text-align: right;\n",
       "    }\n",
       "</style>\n",
       "<table border=\"1\" class=\"dataframe\">\n",
       "  <thead>\n",
       "    <tr style=\"text-align: right;\">\n",
       "      <th></th>\n",
       "      <th>Region</th>\n",
       "      <th>WRI</th>\n",
       "      <th>Exposure</th>\n",
       "      <th>Vulnerability</th>\n",
       "      <th>Susceptibility</th>\n",
       "      <th>Lack of Coping Capabilities</th>\n",
       "      <th>Lack of Adaptive Capacities</th>\n",
       "      <th>Year</th>\n",
       "      <th>Exposure Category</th>\n",
       "      <th>WRI Category</th>\n",
       "      <th>Vulnerability Category</th>\n",
       "      <th>Susceptibility Category</th>\n",
       "    </tr>\n",
       "  </thead>\n",
       "  <tbody>\n",
       "  </tbody>\n",
       "</table>\n",
       "</div>"
      ],
      "text/plain": [
       "Empty DataFrame\n",
       "Columns: [Region, WRI, Exposure, Vulnerability, Susceptibility, Lack of Coping Capabilities,  Lack of Adaptive Capacities, Year, Exposure Category, WRI Category, Vulnerability Category, Susceptibility Category]\n",
       "Index: []"
      ]
     },
     "execution_count": 50,
     "metadata": {},
     "output_type": "execute_result"
    }
   ],
   "source": [
    "wri[wri.duplicated()]"
   ]
  },
  {
   "cell_type": "code",
   "execution_count": 51,
   "id": "5ccdbe52-e85b-4ef6-b568-c0c415d57ec0",
   "metadata": {},
   "outputs": [
    {
     "name": "stdout",
     "output_type": "stream",
     "text": [
      "<class 'pandas.core.frame.DataFrame'>\n",
      "RangeIndex: 1917 entries, 0 to 1916\n",
      "Data columns (total 12 columns):\n",
      " #   Column                       Non-Null Count  Dtype  \n",
      "---  ------                       --------------  -----  \n",
      " 0   Region                       1917 non-null   object \n",
      " 1   WRI                          1917 non-null   float64\n",
      " 2   Exposure                     1917 non-null   float64\n",
      " 3   Vulnerability                1917 non-null   float64\n",
      " 4   Susceptibility               1917 non-null   float64\n",
      " 5   Lack of Coping Capabilities  1917 non-null   float64\n",
      " 6   Lack of Adaptive Capacities  1916 non-null   float64\n",
      " 7   Year                         1917 non-null   int64  \n",
      " 8   Exposure Category            1917 non-null   object \n",
      " 9   WRI Category                 1916 non-null   object \n",
      " 10  Vulnerability Category       1913 non-null   object \n",
      " 11  Susceptibility Category      1917 non-null   object \n",
      "dtypes: float64(6), int64(1), object(5)\n",
      "memory usage: 179.8+ KB\n"
     ]
    }
   ],
   "source": [
    "wri.rename(columns={' Lack of Adaptive Capacities': 'Lack of Adaptive Capacities'}, inplace=True)\n",
    "wri.info()"
   ]
  },
  {
   "cell_type": "code",
   "execution_count": 52,
   "id": "6dd2f841-a1ba-45b4-b6d2-c180deab8958",
   "metadata": {},
   "outputs": [
    {
     "data": {
      "text/plain": [
       "Region                         0\n",
       "WRI                            0\n",
       "Exposure                       0\n",
       "Vulnerability                  0\n",
       "Susceptibility                 0\n",
       "Lack of Coping Capabilities    0\n",
       "Lack of Adaptive Capacities    1\n",
       "Year                           0\n",
       "Exposure Category              0\n",
       "WRI Category                   1\n",
       "Vulnerability Category         4\n",
       "Susceptibility Category        0\n",
       "dtype: int64"
      ]
     },
     "execution_count": 52,
     "metadata": {},
     "output_type": "execute_result"
    }
   ],
   "source": [
    "wri.isnull().sum()"
   ]
  },
  {
   "cell_type": "markdown",
   "id": "113867ec-46e8-41fa-9dda-65b8784e593a",
   "metadata": {},
   "source": [
    "To handle the missing \"Category\" values, we will fill in the missing values based on the data. For the quantitative data, we will replace missing values with the mean."
   ]
  },
  {
   "cell_type": "code",
   "execution_count": 53,
   "id": "2bbd8ccf-b8ca-452a-8cf1-9d27141808a3",
   "metadata": {},
   "outputs": [
    {
     "data": {
      "text/html": [
       "<div>\n",
       "<style scoped>\n",
       "    .dataframe tbody tr th:only-of-type {\n",
       "        vertical-align: middle;\n",
       "    }\n",
       "\n",
       "    .dataframe tbody tr th {\n",
       "        vertical-align: top;\n",
       "    }\n",
       "\n",
       "    .dataframe thead th {\n",
       "        text-align: right;\n",
       "    }\n",
       "</style>\n",
       "<table border=\"1\" class=\"dataframe\">\n",
       "  <thead>\n",
       "    <tr style=\"text-align: right;\">\n",
       "      <th></th>\n",
       "      <th>Region</th>\n",
       "      <th>WRI</th>\n",
       "      <th>Exposure</th>\n",
       "      <th>Vulnerability</th>\n",
       "      <th>Susceptibility</th>\n",
       "      <th>Lack of Coping Capabilities</th>\n",
       "      <th>Lack of Adaptive Capacities</th>\n",
       "      <th>Year</th>\n",
       "      <th>Exposure Category</th>\n",
       "      <th>WRI Category</th>\n",
       "      <th>Vulnerability Category</th>\n",
       "      <th>Susceptibility Category</th>\n",
       "    </tr>\n",
       "  </thead>\n",
       "  <tbody>\n",
       "    <tr>\n",
       "      <th>1193</th>\n",
       "      <td>Österreich</td>\n",
       "      <td>2.87</td>\n",
       "      <td>13.18</td>\n",
       "      <td>21.75</td>\n",
       "      <td>13.63</td>\n",
       "      <td>39.27</td>\n",
       "      <td>12.34</td>\n",
       "      <td>2019</td>\n",
       "      <td>Medium</td>\n",
       "      <td>Very Low</td>\n",
       "      <td>NaN</td>\n",
       "      <td>Very Low</td>\n",
       "    </tr>\n",
       "    <tr>\n",
       "      <th>1202</th>\n",
       "      <td>Deutschland</td>\n",
       "      <td>2.43</td>\n",
       "      <td>11.51</td>\n",
       "      <td>21.11</td>\n",
       "      <td>14.30</td>\n",
       "      <td>36.44</td>\n",
       "      <td>12.60</td>\n",
       "      <td>2019</td>\n",
       "      <td>Low</td>\n",
       "      <td>Very Low</td>\n",
       "      <td>NaN</td>\n",
       "      <td>Very Low</td>\n",
       "    </tr>\n",
       "    <tr>\n",
       "      <th>1205</th>\n",
       "      <td>Norwegen</td>\n",
       "      <td>2.34</td>\n",
       "      <td>10.60</td>\n",
       "      <td>22.06</td>\n",
       "      <td>13.29</td>\n",
       "      <td>39.21</td>\n",
       "      <td>13.68</td>\n",
       "      <td>2019</td>\n",
       "      <td>Low</td>\n",
       "      <td>Very Low</td>\n",
       "      <td>NaN</td>\n",
       "      <td>Very Low</td>\n",
       "    </tr>\n",
       "    <tr>\n",
       "      <th>1292</th>\n",
       "      <td>Föd. Staaten v. Mikronesien</td>\n",
       "      <td>7.59</td>\n",
       "      <td>14.95</td>\n",
       "      <td>50.77</td>\n",
       "      <td>31.79</td>\n",
       "      <td>72.13</td>\n",
       "      <td>48.39</td>\n",
       "      <td>2020</td>\n",
       "      <td>High</td>\n",
       "      <td>NaN</td>\n",
       "      <td>High</td>\n",
       "      <td>High</td>\n",
       "    </tr>\n",
       "    <tr>\n",
       "      <th>1858</th>\n",
       "      <td>Korea Republic of 4.59</td>\n",
       "      <td>14.89</td>\n",
       "      <td>30.82</td>\n",
       "      <td>14.31</td>\n",
       "      <td>46.55</td>\n",
       "      <td>31.59</td>\n",
       "      <td>NaN</td>\n",
       "      <td>2016</td>\n",
       "      <td>Very High</td>\n",
       "      <td>Very High</td>\n",
       "      <td>NaN</td>\n",
       "      <td>High</td>\n",
       "    </tr>\n",
       "  </tbody>\n",
       "</table>\n",
       "</div>"
      ],
      "text/plain": [
       "                           Region    WRI  Exposure  Vulnerability  \\\n",
       "1193                   Österreich   2.87     13.18          21.75   \n",
       "1202                  Deutschland   2.43     11.51          21.11   \n",
       "1205                     Norwegen   2.34     10.60          22.06   \n",
       "1292  Föd. Staaten v. Mikronesien   7.59     14.95          50.77   \n",
       "1858       Korea Republic of 4.59  14.89     30.82          14.31   \n",
       "\n",
       "      Susceptibility  Lack of Coping Capabilities  \\\n",
       "1193           13.63                        39.27   \n",
       "1202           14.30                        36.44   \n",
       "1205           13.29                        39.21   \n",
       "1292           31.79                        72.13   \n",
       "1858           46.55                        31.59   \n",
       "\n",
       "      Lack of Adaptive Capacities  Year Exposure Category WRI Category  \\\n",
       "1193                        12.34  2019            Medium     Very Low   \n",
       "1202                        12.60  2019               Low     Very Low   \n",
       "1205                        13.68  2019               Low     Very Low   \n",
       "1292                        48.39  2020              High          NaN   \n",
       "1858                          NaN  2016         Very High    Very High   \n",
       "\n",
       "     Vulnerability Category Susceptibility Category  \n",
       "1193                    NaN                Very Low  \n",
       "1202                    NaN                Very Low  \n",
       "1205                    NaN                Very Low  \n",
       "1292                   High                    High  \n",
       "1858                    NaN                    High  "
      ]
     },
     "execution_count": 53,
     "metadata": {},
     "output_type": "execute_result"
    }
   ],
   "source": [
    "#show the location of the nulls\n",
    "rows_with_nulls = wri[wri.isnull().any(axis=1)]\n",
    "rows_with_nulls"
   ]
  },
  {
   "cell_type": "code",
   "execution_count": 54,
   "id": "f229fa1c-be85-42cb-b460-57d84a165e5a",
   "metadata": {},
   "outputs": [
    {
     "data": {
      "text/html": [
       "<div>\n",
       "<style scoped>\n",
       "    .dataframe tbody tr th:only-of-type {\n",
       "        vertical-align: middle;\n",
       "    }\n",
       "\n",
       "    .dataframe tbody tr th {\n",
       "        vertical-align: top;\n",
       "    }\n",
       "\n",
       "    .dataframe thead th {\n",
       "        text-align: right;\n",
       "    }\n",
       "</style>\n",
       "<table border=\"1\" class=\"dataframe\">\n",
       "  <thead>\n",
       "    <tr style=\"text-align: right;\">\n",
       "      <th></th>\n",
       "      <th>Vulnerability Category</th>\n",
       "      <th>min</th>\n",
       "      <th>max</th>\n",
       "    </tr>\n",
       "  </thead>\n",
       "  <tbody>\n",
       "    <tr>\n",
       "      <th>4</th>\n",
       "      <td>Very Low</td>\n",
       "      <td>22.81</td>\n",
       "      <td>33.90</td>\n",
       "    </tr>\n",
       "    <tr>\n",
       "      <th>1</th>\n",
       "      <td>Low</td>\n",
       "      <td>34.14</td>\n",
       "      <td>42.10</td>\n",
       "    </tr>\n",
       "    <tr>\n",
       "      <th>2</th>\n",
       "      <td>Medium</td>\n",
       "      <td>42.39</td>\n",
       "      <td>48.04</td>\n",
       "    </tr>\n",
       "    <tr>\n",
       "      <th>0</th>\n",
       "      <td>High</td>\n",
       "      <td>48.13</td>\n",
       "      <td>60.60</td>\n",
       "    </tr>\n",
       "    <tr>\n",
       "      <th>3</th>\n",
       "      <td>Very High</td>\n",
       "      <td>61.50</td>\n",
       "      <td>76.34</td>\n",
       "    </tr>\n",
       "  </tbody>\n",
       "</table>\n",
       "</div>"
      ],
      "text/plain": [
       "  Vulnerability Category    min    max\n",
       "4               Very Low  22.81  33.90\n",
       "1                    Low  34.14  42.10\n",
       "2                 Medium  42.39  48.04\n",
       "0                   High  48.13  60.60\n",
       "3              Very High  61.50  76.34"
      ]
     },
     "execution_count": 54,
     "metadata": {},
     "output_type": "execute_result"
    }
   ],
   "source": [
    "#Calculate Min and Max Values for Each Category\n",
    "data_2019 = wri[wri['Year'] == 2019]\n",
    "category_stats = data_2020.groupby('Vulnerability Category')['Vulnerability'].agg(['min', 'max']).reset_index() #to dataframe\n",
    "category_stats = category_stats.sort_values(by='min')\n",
    "category_stats"
   ]
  },
  {
   "cell_type": "code",
   "execution_count": 55,
   "id": "98a55bb6-9f09-4877-b809-f1b36a3a95ad",
   "metadata": {},
   "outputs": [],
   "source": [
    "#Fill in the missing values\n",
    "wri.loc[1193,'Vulnerability Category'] = 'Very Low'\n",
    "wri.loc[1202,'Vulnerability Category'] = 'Very Low'\n",
    "wri.loc[1205,'Vulnerability Category'] = 'Very Low'"
   ]
  },
  {
   "cell_type": "code",
   "execution_count": 56,
   "id": "64215e5e-b737-46dc-90f4-7470e161716a",
   "metadata": {},
   "outputs": [
    {
     "data": {
      "text/html": [
       "<div>\n",
       "<style scoped>\n",
       "    .dataframe tbody tr th:only-of-type {\n",
       "        vertical-align: middle;\n",
       "    }\n",
       "\n",
       "    .dataframe tbody tr th {\n",
       "        vertical-align: top;\n",
       "    }\n",
       "\n",
       "    .dataframe thead th {\n",
       "        text-align: right;\n",
       "    }\n",
       "</style>\n",
       "<table border=\"1\" class=\"dataframe\">\n",
       "  <thead>\n",
       "    <tr style=\"text-align: right;\">\n",
       "      <th></th>\n",
       "      <th>Vulnerability Category</th>\n",
       "      <th>min</th>\n",
       "      <th>max</th>\n",
       "    </tr>\n",
       "  </thead>\n",
       "  <tbody>\n",
       "    <tr>\n",
       "      <th>4</th>\n",
       "      <td>Very Low</td>\n",
       "      <td>22.81</td>\n",
       "      <td>33.90</td>\n",
       "    </tr>\n",
       "    <tr>\n",
       "      <th>1</th>\n",
       "      <td>Low</td>\n",
       "      <td>34.14</td>\n",
       "      <td>42.10</td>\n",
       "    </tr>\n",
       "    <tr>\n",
       "      <th>2</th>\n",
       "      <td>Medium</td>\n",
       "      <td>42.39</td>\n",
       "      <td>48.04</td>\n",
       "    </tr>\n",
       "    <tr>\n",
       "      <th>0</th>\n",
       "      <td>High</td>\n",
       "      <td>48.13</td>\n",
       "      <td>60.60</td>\n",
       "    </tr>\n",
       "    <tr>\n",
       "      <th>3</th>\n",
       "      <td>Very High</td>\n",
       "      <td>61.50</td>\n",
       "      <td>76.34</td>\n",
       "    </tr>\n",
       "  </tbody>\n",
       "</table>\n",
       "</div>"
      ],
      "text/plain": [
       "  Vulnerability Category    min    max\n",
       "4               Very Low  22.81  33.90\n",
       "1                    Low  34.14  42.10\n",
       "2                 Medium  42.39  48.04\n",
       "0                   High  48.13  60.60\n",
       "3              Very High  61.50  76.34"
      ]
     },
     "execution_count": 56,
     "metadata": {},
     "output_type": "execute_result"
    }
   ],
   "source": [
    "#Calculate Min and Max Values for Each Category\n",
    "data_2016 = wri[wri['Year'] == 2016]\n",
    "category_stats = data_2020.groupby('Vulnerability Category')['Vulnerability'].agg(['min', 'max']).reset_index() #to dataframe\n",
    "category_stats = category_stats.sort_values(by='min')\n",
    "category_stats"
   ]
  },
  {
   "cell_type": "code",
   "execution_count": 57,
   "id": "64911b20-bd26-41d9-b536-accfd52cd248",
   "metadata": {},
   "outputs": [],
   "source": [
    "wri.loc[1858,'Vulnerability Category'] = 'Very Low'"
   ]
  },
  {
   "cell_type": "code",
   "execution_count": 58,
   "id": "9bdf3e32-24cb-48f8-919b-4ad187dc07a8",
   "metadata": {},
   "outputs": [
    {
     "data": {
      "text/html": [
       "<div>\n",
       "<style scoped>\n",
       "    .dataframe tbody tr th:only-of-type {\n",
       "        vertical-align: middle;\n",
       "    }\n",
       "\n",
       "    .dataframe tbody tr th {\n",
       "        vertical-align: top;\n",
       "    }\n",
       "\n",
       "    .dataframe thead th {\n",
       "        text-align: right;\n",
       "    }\n",
       "</style>\n",
       "<table border=\"1\" class=\"dataframe\">\n",
       "  <thead>\n",
       "    <tr style=\"text-align: right;\">\n",
       "      <th></th>\n",
       "      <th>WRI Category</th>\n",
       "      <th>min</th>\n",
       "      <th>max</th>\n",
       "    </tr>\n",
       "  </thead>\n",
       "  <tbody>\n",
       "    <tr>\n",
       "      <th>4</th>\n",
       "      <td>Very Low</td>\n",
       "      <td>0.31</td>\n",
       "      <td>3.14</td>\n",
       "    </tr>\n",
       "    <tr>\n",
       "      <th>1</th>\n",
       "      <td>Low</td>\n",
       "      <td>3.30</td>\n",
       "      <td>5.66</td>\n",
       "    </tr>\n",
       "    <tr>\n",
       "      <th>2</th>\n",
       "      <td>Medium</td>\n",
       "      <td>5.68</td>\n",
       "      <td>7.57</td>\n",
       "    </tr>\n",
       "    <tr>\n",
       "      <th>0</th>\n",
       "      <td>High</td>\n",
       "      <td>7.71</td>\n",
       "      <td>10.51</td>\n",
       "    </tr>\n",
       "    <tr>\n",
       "      <th>3</th>\n",
       "      <td>Very High</td>\n",
       "      <td>10.76</td>\n",
       "      <td>49.74</td>\n",
       "    </tr>\n",
       "  </tbody>\n",
       "</table>\n",
       "</div>"
      ],
      "text/plain": [
       "  WRI Category    min    max\n",
       "4     Very Low   0.31   3.14\n",
       "1          Low   3.30   5.66\n",
       "2       Medium   5.68   7.57\n",
       "0         High   7.71  10.51\n",
       "3    Very High  10.76  49.74"
      ]
     },
     "execution_count": 58,
     "metadata": {},
     "output_type": "execute_result"
    }
   ],
   "source": [
    "#Calculate Min and Max Values for Each Category\n",
    "data_2020 = wri[wri['Year'] == 2020]\n",
    "category_stats = data_2020.groupby('WRI Category')['WRI'].agg(['min', 'max']).reset_index() #to dataframe\n",
    "category_stats = category_stats.sort_values(by='min')\n",
    "category_stats"
   ]
  },
  {
   "cell_type": "code",
   "execution_count": 59,
   "id": "e0b397fd-9933-491f-8040-01f8e94e40d6",
   "metadata": {},
   "outputs": [],
   "source": [
    "#Fill in the missing value\n",
    "wri.loc[1292,'WRI Category'] = 'Medium'"
   ]
  },
  {
   "cell_type": "code",
   "execution_count": 60,
   "id": "38a035d6-87d0-4b07-9c27-e91830b76113",
   "metadata": {},
   "outputs": [],
   "source": [
    "mean_lack_adaptive = data_2016['Lack of Adaptive Capacities'].mean()\n",
    "wri.loc[1858,'Lack of Adaptive Capacities']=mean_lack_adaptive"
   ]
  },
  {
   "cell_type": "code",
   "execution_count": 61,
   "id": "8fe08a9d-c796-408e-9ee3-568ab850ffc1",
   "metadata": {},
   "outputs": [
    {
     "data": {
      "text/plain": [
       "Region                         0\n",
       "WRI                            0\n",
       "Exposure                       0\n",
       "Vulnerability                  0\n",
       "Susceptibility                 0\n",
       "Lack of Coping Capabilities    0\n",
       "Lack of Adaptive Capacities    0\n",
       "Year                           0\n",
       "Exposure Category              0\n",
       "WRI Category                   0\n",
       "Vulnerability Category         0\n",
       "Susceptibility Category        0\n",
       "dtype: int64"
      ]
     },
     "execution_count": 61,
     "metadata": {},
     "output_type": "execute_result"
    }
   ],
   "source": [
    "wri.isnull().sum()"
   ]
  },
  {
   "cell_type": "markdown",
   "id": "5ad4abb7-3396-4de7-8134-6b65b4592815",
   "metadata": {},
   "source": [
    "We have cleaned our dataset, making sure there are no null or duplicate values. \n",
    "\n",
    "__Note:__ Some of the missing category values fall outside the observed range, suggesting they may have been treated as outliers. Furthermore, filling in missing values for \"Lack of Adaptive Capacities\" with the mean could introduce bias. If we do not use models that rely on a complete dataset, it might be more appropriate to drop these rows with missing values to avoid potential distortion of analysis."
   ]
  },
  {
   "cell_type": "markdown",
   "id": "b2b0e66d-497e-4e4b-8896-71bb1110dedf",
   "metadata": {},
   "source": [
    "## Exploratory Data Analysis"
   ]
  },
  {
   "cell_type": "code",
   "execution_count": null,
   "id": "4209bc02-ad9f-4dc5-8532-49e4087bc4db",
   "metadata": {},
   "outputs": [],
   "source": []
  }
 ],
 "metadata": {
  "kernelspec": {
   "display_name": "Python 3 (ipykernel)",
   "language": "python",
   "name": "python3"
  },
  "language_info": {
   "codemirror_mode": {
    "name": "ipython",
    "version": 3
   },
   "file_extension": ".py",
   "mimetype": "text/x-python",
   "name": "python",
   "nbconvert_exporter": "python",
   "pygments_lexer": "ipython3",
   "version": "3.9.13"
  }
 },
 "nbformat": 4,
 "nbformat_minor": 5
}
